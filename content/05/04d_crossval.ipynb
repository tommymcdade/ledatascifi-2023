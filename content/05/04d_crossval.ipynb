{
 "cells": [
  {
   "cell_type": "markdown",
   "metadata": {},
   "source": [
    "# Cross-Validation\n",
    "\n",
    "Cross-validation is a step where we take our training sample and further divide it in many folds, as in the illustration here:\n",
    "\n",
    "```{image} ./img/feature_5_fold_cv.jpg\n",
    ":alt: 5-fold\n",
    ":width: 400px\n",
    ":align: center\n",
    "```\n",
    "\n",
    "As we talked about in the last chapter, cross-validation allows us to test our models outside the training data more often. This trick reduces the likelihood of overfitting and improves generalization: It _should_ improve our model's performance when we apply it outside the training data.\n",
    "\n",
    "```{margin}\n",
    "Illustration: If you emulate the simple folding method as depicted in the above graphic for stock return data, some folds will end up testing your model on data from _before_ the periods where the model was estimated!\n",
    "```\n",
    "\n",
    "```{warning}\n",
    "I say \"it _should_ improve our model's performance\" because the exact manner in which you create the folds matters! \n",
    "\n",
    "See the tip below.\n",
    "```\n",
    "\n",
    "## Basic example\n",
    "\n",
    "Like before, let's first load the data. Notice I consolidated the import lines at the top. \n"
   ]
  },
  {
   "cell_type": "code",
   "execution_count": 1,
   "metadata": {},
   "outputs": [],
   "source": [
    "import pandas as pd\n",
    "import numpy as np\n",
    "from sklearn.linear_model import Ridge\n",
    "from sklearn.model_selection import train_test_split\n",
    "\n",
    "url        = 'https://github.com/LeDataSciFi/data/blob/main/Fannie%20Mae/Fannie_Mae_Plus_Data.gzip?raw=true'\n",
    "fannie_mae = pd.read_csv(url,compression='gzip').dropna()\n",
    "y          = fannie_mae.Original_Interest_Rate\n",
    "fannie_mae = (fannie_mae\n",
    "                  .assign(l_credscore = np.log(fannie_mae['Borrower_Credit_Score_at_Origination']),\n",
    "                          l_LTV = np.log(fannie_mae['Original_LTV_(OLTV)']),\n",
    "                         )\n",
    "              .iloc[:,-11:] # limit to these vars for the sake of this example\n",
    "             )\n"
   ]
  },
  {
   "cell_type": "markdown",
   "metadata": {},
   "source": [
    "And, like before, we then split off some of the data into a testing sample. \n",
    "\n",
    "_For the sake of simplicity (laziness?), let's just reuse the `train_test_split` approach from the last page._"
   ]
  },
  {
   "cell_type": "code",
   "execution_count": 2,
   "metadata": {},
   "outputs": [],
   "source": [
    "rng = np.random.RandomState(0) # this helps us control the randomness so we can reproduce results exactly\n",
    "X_train, X_test, y_train, y_test = train_test_split(fannie_mae, y, random_state=rng)"
   ]
  },
  {
   "cell_type": "markdown",
   "metadata": {},
   "source": [
    "````{dropdown} **Digression. Read this after you read the \"Choosing what kind of CV folds to use\" section below.**\n",
    "\n",
    "Below, we introduce some of the conceptual issues with how you create folds for CV. Once you read that, come back and revisit this `test_train_split` code above, because the same considerations for how we choose folds within a CV apply to how we split off our testing sample.\n",
    "\n",
    "[This page](https://scikit-learn.org/stable/modules/cross_validation.html#using-cross-validation-iterators-to-split-train-and-test) says `train_test_split` uses [ShuffleSplit](https://scikit-learn.org/stable/modules/cross_validation.html#random-permutations-cross-validation-a-k-a-shuffle-split). This method does not divide by time or any group type. \n",
    "\n",
    "```{dropdown} Q: Does this Fannie Mae data need special attention to how we divide it up?\n",
    "\n",
    "A question to ponder, in class perhaps...\n",
    "\n",
    "```\n",
    "\n",
    "If you want to use any other CV iterators to divide up your sample, you can. Here is one:\n",
    "\n",
    "```python\n",
    "# Replace \"GroupShuffleSplit\" with your CV of choice,\n",
    "# and update the contents of split() as needed.\n",
    "\n",
    "train_idx, test_idx = next(\n",
    "    GroupShuffleSplit(random_state=7).split(X, y, groups)\n",
    ")\n",
    "X_train, X_test, y_train, y_test = X[train_idx], X[train_idx], y[test_idx], y[test_idx]\n",
    "```\n",
    "\n",
    "You don't even need to use a built-in CV method to create your holdout data. Here is a simple approach that works in many settings:\n",
    "\n",
    "```python\n",
    "# test on the last year of data\n",
    "\n",
    "train_idx, test_idx = X[X['year']<X['year'].max()], \n",
    "                      X[X['year']=X['year'].max()]\n",
    "X_train, X_test, y_train, y_test = X[train_idx], X[train_idx], y[test_idx], y[test_idx]\n",
    "```\n",
    "\n",
    "````"
   ]
  },
  {
   "cell_type": "markdown",
   "metadata": {},
   "source": [
    "## Set up the CV\n",
    "\n",
    "```{margin} \n",
    "_Note: **Your estimator will actually be a \"pipeline\" object.** ([covered in detail on the next page](04e_pipelines)) A pipeline object tells sk-learn to apply a series of steps to the data (preprocessing, etc.) and always ends with a model to estimate._\n",
    "```\n",
    "\n",
    "Sk-learn makes cross-validation pretty easy. We use the `cross_validate(\"estimator\",X_train,y_train,cv,scoring,...)` function ([documentation here](https://scikit-learn.org/stable/modules/generated/sklearn.model_selection.cross_validate.html)) which, under the hood, will \n",
    "1. Create folds in X_train and y_train using whatever method you put in the `cv` parameter. For each fold, it will create a smaller \"training partition\" and \"validation partition\" like in the figure at the top of this page. \n",
    "1. For each fold, it will\n",
    "    1. Fit your \"estimator\" on the smaller training partition it creates for that fold (as if you ran `estimator.fit(X_trainingpartition,y_trainingpartition)`). \n",
    "    1. Use that fitted estimator on the validation partition (as if you ran `estimator.predict(X_validationpartition)`). \n",
    "    1. Score those predictions with the function(s) you put in `scoring`.\n",
    "1. Output a dictionary object with performance data for each fold.\n",
    "\n",
    "```{important}\n",
    "So, to use `cross_validate()`, you need to decide on and set up:\n",
    "\n",
    "1. Your preferred folding method (and number of folds)\n",
    "1. Your estimator (or pipeline ending in an estimator)\n",
    "1. Your scoring method(s) \n",
    "```\n",
    "\n",
    "The code _can_ be this simple:"
   ]
  },
  {
   "cell_type": "code",
   "execution_count": 3,
   "metadata": {},
   "outputs": [
    {
     "data": {
      "text/plain": [
       "{'fit_time': array([0.0181005, 0.       , 0.       , 0.       , 0.       ]),\n",
       " 'score_time': array([0.        , 0.01563931, 0.        , 0.        , 0.        ]),\n",
       " 'test_score': array([0.90789446, 0.89926394, 0.900032  , 0.90479828, 0.90327986])}"
      ]
     },
     "execution_count": 3,
     "metadata": {},
     "output_type": "execute_result"
    }
   ],
   "source": [
    "from sklearn.model_selection import KFold, cross_validate\n",
    "\n",
    "cv    = KFold(5)                       # pick and set up fold method\n",
    "ridge = Ridge(alpha=1.0)               # set up model/estimator\n",
    "cross_validate(ridge,\n",
    "               X_train,y_train, cv=cv, \n",
    "               scoring='r2')           # tell it the scoring method here"
   ]
  },
  {
   "cell_type": "markdown",
   "metadata": {},
   "source": [
    "```{note} \n",
    "Wow, that was easy! Just 3 lines of code (and an import).\n",
    "```\n",
    "\n",
    "And we can output test score statistics like:"
   ]
  },
  {
   "cell_type": "code",
   "execution_count": 4,
   "metadata": {},
   "outputs": [
    {
     "name": "stdout",
     "output_type": "stream",
     "text": [
      "0.9030537085469961\n",
      "0.0031629307869794876\n"
     ]
    }
   ],
   "source": [
    "scores = cross_validate(ridge, X_train, y_train, cv=cv, scoring=\"r2\")\n",
    "print(scores[\"test_score\"].mean())  # scores is just a dictionary\n",
    "print(scores[\"test_score\"].std())"
   ]
  },
  {
   "cell_type": "markdown",
   "metadata": {},
   "source": [
    "## Choosing what kind of CV folds to use\n",
    "\n",
    "What should we put in the `cv = ?` line of code?\n",
    "\n",
    "It depends on the dataset:\n",
    "\n",
    "- **IID data**: If we have a dataset with one observation per unit and all observations are at either the same time, or if time can be ignored:\n",
    "    - `KFold()` and `ShuffleSplit()`\n",
    "    - If you have a [classification task](03e_whichModel) with imbalanced labels, use `StratifiedKFold()` and `StratifiedShuffleSplit()`\n",
    "- **Grouped, time-independent data**: If time can be ignored or there is only one time period, and you have multiple observations for each unit (\"groups\"), your goal is likely to find out if a model trained on a particular set of groups generalizes well to the unseen groups:\n",
    "    - `GroupKFold()` and `GroupShuffleSplit`\n",
    "    - If you have a [classification task](03e_whichModel) with imbalanced labels, use `StratifiedGroupKFold()` \n",
    "- **If your data and/or task is time dependent:** E.g. predicting stock returns, any setting where the choice depends on prior choices and outcomes\n",
    "    - **You must ensure that the validation partitions are subsequent to the training sample.**\n",
    "    - Rarely: If you have a simple time series dataset (one observation for each time), use the built-in `TimeSeriesSplit()`  \n",
    "    - Usually: If you have a cross-sectional panel (multiple observations for each time), build a custom splitter to generate your folds.\n",
    "\n",
    "```{tip}\n",
    "**[This page should be your first reference to learn about the CV splitting functions listed above.](https://scikit-learn.org/stable/modules/cross_validation.html#cross-validation-iterators)** \n",
    "```\n",
    "\n",
    "## Custom CV folds\n",
    "\n",
    "You can explicitly design and create customer CV folds to suit your problem. [The `cross_validation()` documentation](https://scikit-learn.org/stable/modules/generated/sklearn.model_selection.cross_validate.html) says that `cv` can be \"An iterable yielding (train, test) splits as arrays of indices.\"\n",
    "\n",
    "Let's use this example: \n",
    "\n",
    "```python\n",
    "cv_custom = [([0,1],[2]),\n",
    "             ([0,1,2],[3]),\n",
    "             ([0,1,2,3],[4])]\n",
    "\n",
    "cross_validate(ridge,\n",
    "               X_train,y_train, cv=cv_custom, \n",
    "               scoring='r2')  \n",
    "```\n",
    "\n",
    "`cv_custom` is a list (lists are an \"iterable\" object) with 3 elements, so our cross validation will have 3 folds. \n",
    "1. The first fold is given by the first element: `([0,1],[2])`, which says the training data is rows 0 and 1, and the validation is done on row 2.\n",
    "1. In the second fold, train on rows 0 to 2, and validate on row 3.\n",
    "1. And so on."
   ]
  },
  {
   "cell_type": "markdown",
   "metadata": {},
   "source": [
    "## Code for rolling OOS testing (v0)\n",
    "\n",
    "```{important}\n",
    "The code below is _**almost**_ plug-and-play! (But not quite!) \n",
    "```\n",
    "\n",
    "```{margin}\n",
    "1. Train on year 1, and predict outcomes in year 2.\n",
    "1. Then train on years 1 and 2, and predict outcomes in year 3.\n",
    "1. Then train on years 1  -  3, and predict outcomes in year 4.\n",
    "1. Then train on years 1  -  4, and predict outcomes in year 5.\n",
    "1. ...\n",
    "1. Then train on years 1  -  16, and predict outcomes in year 17.\n",
    "```\n",
    "\n",
    "One procedure to do rolling OOS testing was introduced [on this page](03c1_OOS), and I copied it here in the sidebar. It's a common choice that works well in many settings. It works when you have many firms or units (whether each unit has one or multiple observations per year), or even with a single time series![^oneseries] And it can be adjusted to other units of time (monthly, weekly, decades), or only every few units of time.\n",
    "\n",
    "[^oneseries]: You could do `TimeSeriesSplit()`, but if you have 20 years of daily trading data, there are potentially ~500 possible splits! That will be slow when you evaluate a bunch of models a bunch of times! The procedure above reduces that greatly.\n",
    "\n",
    "The code below implements it and can be used with appropriate adjustments for your setting. "
   ]
  },
  {
   "cell_type": "markdown",
   "metadata": {},
   "source": [
    "```python\n",
    "# adjust the inside of \"groupby()\" to your df/problem, pick other parameters\n",
    "\n",
    "time_groups               = X_train.groupby(X_train['DATE'].dt.year).groups \n",
    "min_periods_in_train      = 5\n",
    "training_expanding_window = True\n",
    "\n",
    "# shouldn't need to adjust this code: \n",
    "\n",
    "sorted_groups = [list(value) for (key, value) in sorted(time_groups.items())]\n",
    "\n",
    "if training_expanding_window:\n",
    "\n",
    "    cv = [([i for g in sorted_groups[:y] for i in g],sorted_groups[y]) \n",
    "            for y in range(min_periods_in_train , len(sorted_groups))]\n",
    "\n",
    "else:\n",
    "    \n",
    "    cv = [([i for g in sorted_groups[y-min_periods_in_train:y] for i in g],sorted_groups[y]) \n",
    "            for y in range(min_periods_in_train, len(sorted_groups))]\n",
    "```"
   ]
  },
  {
   "cell_type": "markdown",
   "metadata": {
    "tags": [
     "remove_input"
    ]
   },
   "source": [
    "````{tip}\n",
    "Extra credit: Convert the code above into a function for the community codebook! \n",
    "\n",
    "Something like:\n",
    "\n",
    "```python\n",
    "def rolling_oos_cv(???): # you need to decide on arguments\n",
    "    ??? \n",
    "    return cv\n",
    "```\n",
    "\n",
    "Considerations/bonus:\n",
    "1. ESSENTIAL: How should the user specify the time dimensions to groupby? What if they want to use months, weeks, etc. instead of years?\n",
    "1. EASY BONUS: Can the user ask for multiple time periods in the validation sets? E.g. predict the next two years?\n",
    "1. HARDER BONUS: Can the user ask to skip some folds? E.g. if they group the data by months, but only do the training and prediction for the first month each year?\n",
    "````"
   ]
  },
  {
   "cell_type": "markdown",
   "metadata": {},
   "source": [
    "## Code for rolling OOS testing (v1)\n",
    "\n",
    "The code above works. It lacks some features, and until a classmate codes it up into a nice function, it requires copy-pasting all of the code I wrote, and adjusting it.\n",
    "\n",
    "As of mid-2022, someone has finally made a function that looks like a promising solution. [Here is the documentation for GroupTimeSeriesSplit.](https://rasbt.github.io/mlxtend/user_guide/evaluate/GroupTimeSeriesSplit/) However, it's new and has some quirks. "
   ]
  },
  {
   "cell_type": "markdown",
   "metadata": {},
   "source": [
    "Here is an illustration of how it divides up the sample. First, I'll create a simple dataset we can look at. Notice we have several firms in many years."
   ]
  },
  {
   "cell_type": "code",
   "execution_count": 5,
   "metadata": {
    "tags": [
     "hide_input"
    ]
   },
   "outputs": [
    {
     "data": {
      "text/html": [
       "<div>\n",
       "<style scoped>\n",
       "    .dataframe tbody tr th:only-of-type {\n",
       "        vertical-align: middle;\n",
       "    }\n",
       "\n",
       "    .dataframe tbody tr th {\n",
       "        vertical-align: top;\n",
       "    }\n",
       "\n",
       "    .dataframe thead th {\n",
       "        text-align: right;\n",
       "    }\n",
       "</style>\n",
       "<table border=\"1\" class=\"dataframe\">\n",
       "  <thead>\n",
       "    <tr style=\"text-align: right;\">\n",
       "      <th></th>\n",
       "      <th>0</th>\n",
       "      <th>1</th>\n",
       "      <th>2</th>\n",
       "      <th>3</th>\n",
       "      <th>4</th>\n",
       "      <th>5</th>\n",
       "      <th>6</th>\n",
       "      <th>7</th>\n",
       "      <th>8</th>\n",
       "      <th>9</th>\n",
       "      <th>10</th>\n",
       "      <th>11</th>\n",
       "      <th>12</th>\n",
       "    </tr>\n",
       "  </thead>\n",
       "  <tbody>\n",
       "    <tr>\n",
       "      <th>year</th>\n",
       "      <td>2000</td>\n",
       "      <td>2000</td>\n",
       "      <td>2000</td>\n",
       "      <td>2001</td>\n",
       "      <td>2001</td>\n",
       "      <td>2002</td>\n",
       "      <td>2002</td>\n",
       "      <td>2002</td>\n",
       "      <td>2002</td>\n",
       "      <td>2003</td>\n",
       "      <td>2004</td>\n",
       "      <td>2004</td>\n",
       "      <td>2006</td>\n",
       "    </tr>\n",
       "    <tr>\n",
       "      <th>firm</th>\n",
       "      <td>1</td>\n",
       "      <td>2</td>\n",
       "      <td>3</td>\n",
       "      <td>1</td>\n",
       "      <td>2</td>\n",
       "      <td>1</td>\n",
       "      <td>2</td>\n",
       "      <td>3</td>\n",
       "      <td>4</td>\n",
       "      <td>4</td>\n",
       "      <td>4</td>\n",
       "      <td>5</td>\n",
       "      <td>5</td>\n",
       "    </tr>\n",
       "    <tr>\n",
       "      <th>X</th>\n",
       "      <td>0</td>\n",
       "      <td>4</td>\n",
       "      <td>5</td>\n",
       "      <td>2</td>\n",
       "      <td>5</td>\n",
       "      <td>7</td>\n",
       "      <td>2</td>\n",
       "      <td>4</td>\n",
       "      <td>4</td>\n",
       "      <td>9</td>\n",
       "      <td>8</td>\n",
       "      <td>9</td>\n",
       "      <td>8</td>\n",
       "    </tr>\n",
       "    <tr>\n",
       "      <th>y</th>\n",
       "      <td>0</td>\n",
       "      <td>0</td>\n",
       "      <td>1</td>\n",
       "      <td>1</td>\n",
       "      <td>1</td>\n",
       "      <td>1</td>\n",
       "      <td>0</td>\n",
       "      <td>0</td>\n",
       "      <td>1</td>\n",
       "      <td>1</td>\n",
       "      <td>0</td>\n",
       "      <td>1</td>\n",
       "      <td>0</td>\n",
       "    </tr>\n",
       "  </tbody>\n",
       "</table>\n",
       "</div>"
      ],
      "text/plain": [
       "        0     1     2     3     4     5     6     7     8     9     10    11  \\\n",
       "year  2000  2000  2000  2001  2001  2002  2002  2002  2002  2003  2004  2004   \n",
       "firm     1     2     3     1     2     1     2     3     4     4     4     5   \n",
       "X        0     4     5     2     5     7     2     4     4     9     8     9   \n",
       "y        0     0     1     1     1     1     0     0     1     1     0     1   \n",
       "\n",
       "        12  \n",
       "year  2006  \n",
       "firm     5  \n",
       "X        8  \n",
       "y        0  "
      ]
     },
     "metadata": {},
     "output_type": "display_data"
    }
   ],
   "source": [
    "import pandas as pd\n",
    "\n",
    "df = pd.DataFrame({'year':[2000,2000,2000,2001,2001,2002,2002,2002,2002,2003,2004,2004,2006],\n",
    "                   'firm':[1,2,3,1,2,1,2,3,4,4,4,5,5],\n",
    "                   'X':   [0,4,5,2,5,7,2,4,4,9,8,9,8],\n",
    "                   'y':   [0,0,1,1,1,1,0,0,1,1,0,1,0]\n",
    "                  })\n",
    "display(df.T)"
   ]
  },
  {
   "cell_type": "markdown",
   "metadata": {},
   "source": [
    "`GroupTimeSeriesSplit()` correctly splits up the sample:"
   ]
  },
  {
   "cell_type": "code",
   "execution_count": 6,
   "metadata": {
    "tags": [
     "hide_input"
    ]
   },
   "outputs": [
    {
     "data": {
      "image/png": "[encoded data removed]",
      "text/plain": [
       "<Figure size 1200x400 with 1 Axes>"
      ]
     },
     "metadata": {},
     "output_type": "display_data"
    }
   ],
   "source": [
    "from mlxtend.evaluate.time_series import GroupTimeSeriesSplit, plot_splits\n",
    "cv_args = {'test_size':1, 'n_splits':5,'window_type':'expanding'}\n",
    "plot_splits(df.X, df.y, df.year, **cv_args)"
   ]
  },
  {
   "cell_type": "markdown",
   "metadata": {},
   "source": [
    "Using it is easy: \n",
    "1. Replace the `cv=` with `GroupTimeSeriesSplit()` and the parameters you want.\n",
    "1. Add `groups=` to cross_validate, and it should be the variable containing the time info."
   ]
  },
  {
   "cell_type": "code",
   "execution_count": 7,
   "metadata": {},
   "outputs": [
    {
     "data": {
      "text/plain": [
       "array([0. , 0.5, 1. , 0.5, 0. ])"
      ]
     },
     "execution_count": 7,
     "metadata": {},
     "output_type": "execute_result"
    }
   ],
   "source": [
    "from sklearn.dummy import DummyClassifier\n",
    "from sklearn.model_selection import cross_validate\n",
    "from mlxtend.evaluate import GroupTimeSeriesSplit\n",
    "\n",
    "cv      = GroupTimeSeriesSplit(test_size=1, \n",
    "                               n_splits=5, \n",
    "                               window_type='expanding') # set up fold method\n",
    "clf     = DummyClassifier(strategy=\"most_frequent\")     # set up model/estimator\n",
    "\n",
    "cross_validate(clf,\n",
    "               df.X, df.y,\n",
    "               cv=cv,\n",
    "               groups=df.year, \n",
    "               scoring=\"accuracy\")[\"test_score\"]        # for this page, just print results"
   ]
  },
  {
   "cell_type": "markdown",
   "metadata": {},
   "source": [
    "## Next step: Pipelines\n",
    "\n",
    "The model above \n",
    "- Only uses a few continuous variables: what if we want to include other variable types (like categorical)?\n",
    "- Uses the variables as given: ML algorithms often need you to transform your variables\n",
    "- Doesn't deal with any data problems (e.g. missing values or outliers)\n",
    "- Doesn't create any interaction terms or polynomial transformations\n",
    "- Uses every variable I give it: But if your input data had 400 variables, you'd be in danger of overfitting!\n",
    "\n",
    "At this point, you are capable of solving all of these problems. (For example, you could clean the data in pandas.)\n",
    "\n",
    "**But for our models to be robust to evil monsters like \"data leakage\", we need the fixes to be done within pipelines.** "
   ]
  }
 ],
 "metadata": {
  "kernelspec": {
   "display_name": "Python 3 (ipykernel)",
   "language": "python",
   "name": "python3"
  },
  "language_info": {
   "codemirror_mode": {
    "name": "ipython",
    "version": 3
   },
   "file_extension": ".py",
   "mimetype": "text/x-python",
   "name": "python",
   "nbconvert_exporter": "python",
   "pygments_lexer": "ipython3",
   "version": "3.8.16"
  }
 },
 "nbformat": 4,
 "nbformat_minor": 4
}
