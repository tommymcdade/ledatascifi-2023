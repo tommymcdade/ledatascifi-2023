{
 "cells": [
  {
   "cell_type": "markdown",
   "metadata": {},
   "source": [
    "# Faster, better, stronger\n",
    "\n",
    "Students often ask about how they can grow their skills after this semester. \n",
    "\n",
    "There is no one path forward, but I think people learn skills best when skill-building is the byproduct of doing something fun/exciting that scratches your curiosity. \n",
    "\n",
    "Your projects don't have to be finance-related. (My initial python projects weren't!) Maybe it's about your love of some game (e.g. Sim City?), tv/movies/books, or sports. Just pick something that sounds fun. \n",
    "\n",
    "- A fantasy draft wizard, powered by data scraped from multiple sites and organized by ML techniques. ([This repo, written in R, might be inspiring](https://github.com/jsoslow2/Fantasy-Football-Models).)\n",
    "- [Build a dashboard](06c_dashboards)\n",
    "- [Try to use one of the advanced finance packages here.](05c_finpacks)\n",
    "- [Our resources page](../about/resources.html#resources-tutorials-and-data) has lots of good stuff to explore\n",
    "- I'd also recommend meandering the links on [this page, including \"fecon\"](https://github.com/jupyter/jupyter/wiki#economics-and-finance)"
   ]
  }
 ],
 "metadata": {
  "kernelspec": {
   "display_name": "Python 3 (ipykernel)",
   "language": "python",
   "name": "python3"
  },
  "language_info": {
   "codemirror_mode": {
    "name": "ipython",
    "version": 3
   },
   "file_extension": ".py",
   "mimetype": "text/x-python",
   "name": "python",
   "nbconvert_exporter": "python",
   "pygments_lexer": "ipython3",
   "version": "3.8.16"
  }
 },
 "nbformat": 4,
 "nbformat_minor": 4
}
